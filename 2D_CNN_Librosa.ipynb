{
  "nbformat": 4,
  "nbformat_minor": 0,
  "metadata": {
    "colab": {
      "name": "2D_CNN_Librosa.ipynb",
      "provenance": [],
      "collapsed_sections": []
    },
    "kernelspec": {
      "name": "python3",
      "display_name": "Python 3"
    },
    "accelerator": "GPU"
  },
  "cells": [
    {
      "cell_type": "code",
      "metadata": {
        "id": "NNvpD50or5Kv",
        "outputId": "c0935c4a-8d18-49f1-d1ea-1dfdc2942bd5",
        "colab": {
          "base_uri": "https://localhost:8080/"
        }
      },
      "source": [
        "%cd /content/drive/My Drive/Colab Notebooks/Music Informatics"
      ],
      "execution_count": 1,
      "outputs": [
        {
          "output_type": "stream",
          "text": [
            "/content/drive/My Drive/Colab Notebooks/Music Informatics\n"
          ],
          "name": "stdout"
        }
      ]
    },
    {
      "cell_type": "code",
      "metadata": {
        "id": "evFUnyXLsYIV"
      },
      "source": [
        "import numpy as np\n",
        "import pandas as pd\n",
        "import os\n",
        "from librosa import feature\n",
        "import librosa \n",
        "import matplotlib.pyplot as plt\n",
        "from matplotlib import colors as mcolors\n",
        "import IPython.display as ipd  # To play sound in the notebook\n",
        "import librosa.display\n",
        "import json\n",
        "from matplotlib.pyplot import specgram\n",
        "import seaborn as sns\n",
        "import glob \n",
        "from tqdm import tqdm\n",
        "import pickle\n",
        "from PIL import Image\n",
        "\n",
        "import torch\n",
        "import torch.nn as nn\n",
        "import torch.nn.functional as F\n",
        "from torch.nn import init\n",
        "from torch.utils.data import Dataset, DataLoader, TensorDataset\n",
        "from torchvision import transforms, utils\n",
        "from torch.autograd import Variable\n",
        "from torchvision import models\n",
        "%matplotlib inline"
      ],
      "execution_count": 2,
      "outputs": []
    },
    {
      "cell_type": "code",
      "metadata": {
        "id": "1myIpqFkCprr"
      },
      "source": [
        "colors = dict(mcolors.BASE_COLORS, **mcolors.CSS4_COLORS)"
      ],
      "execution_count": 3,
      "outputs": []
    },
    {
      "cell_type": "code",
      "metadata": {
        "id": "llV_wnFnspV_"
      },
      "source": [
        "MUSIC = '/content/drive/My Drive/Colab Notebooks/Music Informatics/genres_original'\n",
        "music_dataset = []\n",
        "genre_target = []\n",
        "for root, dirs, files in os.walk(MUSIC):\n",
        "    for name in files:\n",
        "        filename = os.path.join(root, name)\n",
        "        # Check filename to avoid .DS_Store\n",
        "        if filename != '/content/drive/My Drive/Colab Notebooks/Music Informatics/genres_original/jazz/jazz.00054.wav' and filename.endswith('.wav'):\n",
        "            music_dataset.append(filename)\n",
        "            # Depending on the path, the splitted filename is different!\n",
        "            genre_target.append(filename.split(\"/\")[7])"
      ],
      "execution_count": 4,
      "outputs": []
    },
    {
      "cell_type": "code",
      "metadata": {
        "id": "Hs9_PAyNl_uk",
        "outputId": "89ad98ac-be8a-4b2c-e856-7f7a926cc7f2",
        "colab": {
          "base_uri": "https://localhost:8080/"
        }
      },
      "source": [
        "print(len(music_dataset), len(genre_target))"
      ],
      "execution_count": 5,
      "outputs": [
        {
          "output_type": "stream",
          "text": [
            "999 999\n"
          ],
          "name": "stdout"
        }
      ]
    },
    {
      "cell_type": "code",
      "metadata": {
        "id": "H9IKL3mWrXFD"
      },
      "source": [
        "#import random\n",
        "#music_dataset_sub, genre_target_sub = zip(*random.sample(list(zip(music_dataset, genre_target)), 500))"
      ],
      "execution_count": 6,
      "outputs": []
    },
    {
      "cell_type": "code",
      "metadata": {
        "id": "FwYFV0epseR7"
      },
      "source": [
        "#print(len(music_dataset_sub), len(genre_target_sub))"
      ],
      "execution_count": 7,
      "outputs": []
    },
    {
      "cell_type": "markdown",
      "metadata": {
        "id": "f5DTAx0-tSHJ"
      },
      "source": [
        "## Melspectrogram"
      ]
    },
    {
      "cell_type": "code",
      "metadata": {
        "id": "aAQ_vt8qmIjg"
      },
      "source": [
        "mel_spec = []\n",
        "genre_new = []\n",
        "N_FFT = 512\n",
        "N_MELS = 96\n",
        "HOP_LEN = 256\n",
        "num_div = 8"
      ],
      "execution_count": 8,
      "outputs": []
    },
    {
      "cell_type": "code",
      "metadata": {
        "id": "uJTS72D1tP1E"
      },
      "source": [
        "for idx, wav in enumerate(music_dataset):\n",
        "    if wav.endswith('.wav'):\n",
        "        y, sfr = librosa.load(wav)\n",
        "        div = np.split(y[:660000], num_div)\n",
        "        for chunck in div:\n",
        "            melSpec = librosa.feature.melspectrogram(y=chunck, sr=sfr, n_mels=N_MELS, hop_length=HOP_LEN, n_fft=N_FFT)\n",
        "            melSpec_dB = librosa.power_to_db(melSpec, ref=np.max)\n",
        "            mel_spec.append(melSpec_dB)\n",
        "            genre_new.append(genre_target[idx])"
      ],
      "execution_count": 9,
      "outputs": []
    },
    {
      "cell_type": "code",
      "metadata": {
        "id": "Lc5qfJo5zaRK"
      },
      "source": [
        "genre_dict = {\n",
        "    'blues': 0,\n",
        "    'classical': 1,\n",
        "    'country': 2,\n",
        "    'disco': 3,\n",
        "    'hiphop': 4,\n",
        "    'jazz': 5,\n",
        "    'metal': 6,\n",
        "    'pop': 7,\n",
        "    'reggae': 8,\n",
        "    'rock': 9,\n",
        "    }"
      ],
      "execution_count": 10,
      "outputs": []
    },
    {
      "cell_type": "code",
      "metadata": {
        "id": "G1_DJFB9zhEj"
      },
      "source": [
        "genre_id = [genre_dict[item] for item in genre_new]"
      ],
      "execution_count": 11,
      "outputs": []
    },
    {
      "cell_type": "code",
      "metadata": {
        "id": "J2Wc2Xydec-s"
      },
      "source": [
        "#mel_spec_store = [e.tolist() for e in mel_spec]"
      ],
      "execution_count": 12,
      "outputs": []
    },
    {
      "cell_type": "code",
      "metadata": {
        "id": "ISCkw-emdXXo"
      },
      "source": [
        "#import json\n",
        "#with open('melspectrogram', 'a') as f:\n",
        "#    f.write(json.dumps(mel_spec_store, ensure_ascii=False))\n",
        "#    f.write(json.dumps(genre_id, ensure_ascii=False))"
      ],
      "execution_count": 13,
      "outputs": []
    },
    {
      "cell_type": "code",
      "metadata": {
        "id": "GC0WP0twzkrA"
      },
      "source": [
        "from sklearn.model_selection import train_test_split\n",
        "X_train, X_test, y_train, y_test = train_test_split(mel_spec, genre_id, test_size=0.2, random_state=42)"
      ],
      "execution_count": 14,
      "outputs": []
    },
    {
      "cell_type": "code",
      "metadata": {
        "id": "cNnWv5o3znZ4"
      },
      "source": [
        "BATCH_SIZE = 16\n",
        "\n",
        "torch_X_train = torch.unsqueeze(torch.cuda.FloatTensor(X_train), 1)\n",
        "torch_y_train = torch.cuda.LongTensor(y_train)\n",
        "\n",
        "torch_X_test = torch.unsqueeze(torch.cuda.FloatTensor(X_test), 1)\n",
        "torch_y_test = torch.cuda.LongTensor(y_test)\n",
        "\n",
        "# Pytorch train and test data sets\n",
        "train = torch.utils.data.TensorDataset(torch_X_train,torch_y_train)\n",
        "test = torch.utils.data.TensorDataset(torch_X_test,torch_y_test)\n",
        "\n",
        "# data loader\n",
        "train_loader = torch.utils.data.DataLoader(train, batch_size = BATCH_SIZE, shuffle = True)\n",
        "test_loader = torch.utils.data.DataLoader(test, batch_size = BATCH_SIZE, shuffle = False)\n"
      ],
      "execution_count": 15,
      "outputs": []
    },
    {
      "cell_type": "code",
      "metadata": {
        "id": "nWatoWH-ztUa"
      },
      "source": [
        "class MusicCNN(nn.Module):\n",
        "    def __init__(self):\n",
        "        super(MusicCNN, self).__init__()\n",
        "\n",
        "        self._convblocks = nn.Sequential(\n",
        "            nn.Conv2d(in_channels=1, out_channels=64, kernel_size=3, stride=1, padding=1),\n",
        "            nn.BatchNorm2d(64),\n",
        "            nn.ReLU(),\n",
        "            nn.MaxPool2d(kernel_size=2),\n",
        "\n",
        "            nn.Conv2d(in_channels=64, out_channels=128, kernel_size=3, stride=1, padding=1),\n",
        "            nn.BatchNorm2d(128),\n",
        "            nn.ReLU(),\n",
        "            nn.MaxPool2d(kernel_size=2),\n",
        "\n",
        "            nn.Conv2d(in_channels=128, out_channels=256, kernel_size=3, stride=1, padding=1),\n",
        "            nn.BatchNorm2d(256),\n",
        "            nn.ReLU(),\n",
        "            nn.MaxPool2d(kernel_size=4),\n",
        "\n",
        "            nn.Conv2d(in_channels=256, out_channels=512, kernel_size=3, stride=1, padding=1),\n",
        "            nn.BatchNorm2d(512),\n",
        "            nn.ReLU(),\n",
        "            nn.MaxPool2d(kernel_size=4)\n",
        "        )\n",
        "        self._classifier = nn.Sequential(nn.Linear(in_features=512*5, out_features=1024),\n",
        "                                         nn.ReLU(),\n",
        "                                         nn.Dropout(),\n",
        "                                         nn.Linear(in_features=1024, out_features=256),\n",
        "                                         nn.ReLU(),\n",
        "                                         nn.Dropout(),\n",
        "                                         nn.Linear(in_features=256, out_features=10))\n",
        "        self.apply(self._init_weights)\n",
        "\n",
        "    def forward(self, x):\n",
        "        x = self._convblocks(x)\n",
        "        x = x.view(x.size(0), -1)\n",
        "        score = self._classifier(x)\n",
        "        return score\n",
        "\n",
        "    def _init_weights(self, layer) -> None:\n",
        "        if isinstance(layer, nn.Conv1d):\n",
        "            nn.init.kaiming_uniform_(layer.weight)\n",
        "        elif isinstance(layer, nn.Linear):\n",
        "            nn.init.xavier_uniform_(layer.weight)"
      ],
      "execution_count": 16,
      "outputs": []
    },
    {
      "cell_type": "code",
      "metadata": {
        "id": "5HVeru0h0EKb"
      },
      "source": [
        "model = MusicCNN()\n",
        "model.cuda()\n",
        "error = nn.CrossEntropyLoss()\n",
        "learning_rate = 0.001\n",
        "optimizer = torch.optim.Adam(model.parameters(), lr=learning_rate)"
      ],
      "execution_count": 36,
      "outputs": []
    },
    {
      "cell_type": "code",
      "metadata": {
        "id": "-80hPwreCy1C"
      },
      "source": [
        "mel_loss_plot = []\n",
        "mel_accuracy_plot = []\n",
        "mel_epoch_plot = []"
      ],
      "execution_count": 37,
      "outputs": []
    },
    {
      "cell_type": "code",
      "metadata": {
        "id": "ZfBa3e1K0GcD",
        "outputId": "e2e2338f-ff1e-4b66-b004-e909c87865ee",
        "colab": {
          "base_uri": "https://localhost:8080/"
        }
      },
      "source": [
        "EPOCHS = 50\n",
        "model.train()\n",
        "for epoch in range(EPOCHS):\n",
        "    correct = 0\n",
        "    for batch_idx, (X_batch, y_batch) in enumerate(train_loader):\n",
        "        var_X_batch = Variable(X_batch).float()\n",
        "        var_y_batch = Variable(y_batch)\n",
        "        optimizer.zero_grad()\n",
        "        output = model(var_X_batch)\n",
        "        loss = error(output, var_y_batch)\n",
        "        loss.backward()\n",
        "        optimizer.step()\n",
        "\n",
        "        # Total correct predictions\n",
        "        predicted = torch.max(output.data, 1)[1] \n",
        "        correct += (predicted == var_y_batch).sum()\n",
        "        #print(correct)\n",
        "        if batch_idx % 480 == 0:\n",
        "            print('Epoch : {}\\t Loss: {:.6f}\\t Accuracy:{:.3f}%'.format(epoch, loss.data, float(correct*100) / float(BATCH_SIZE*(batch_idx+1))))\n",
        "            mel_epoch_plot.append(epoch)\n",
        "            mel_loss_plot.append(loss.data)\n",
        "            mel_accuracy_plot.append(float(correct*100) / float(BATCH_SIZE*(batch_idx+1)))"
      ],
      "execution_count": 38,
      "outputs": [
        {
          "output_type": "stream",
          "text": [
            "Epoch : 0\t Loss: 5.123867\t Accuracy:6.250%\n",
            "Epoch : 1\t Loss: 2.188517\t Accuracy:25.000%\n",
            "Epoch : 2\t Loss: 1.770429\t Accuracy:37.500%\n",
            "Epoch : 3\t Loss: 1.283180\t Accuracy:56.250%\n",
            "Epoch : 4\t Loss: 1.544123\t Accuracy:50.000%\n",
            "Epoch : 5\t Loss: 0.883764\t Accuracy:56.250%\n",
            "Epoch : 6\t Loss: 0.732805\t Accuracy:81.250%\n",
            "Epoch : 7\t Loss: 1.003740\t Accuracy:87.500%\n",
            "Epoch : 8\t Loss: 0.874225\t Accuracy:62.500%\n",
            "Epoch : 9\t Loss: 0.344201\t Accuracy:87.500%\n",
            "Epoch : 10\t Loss: 0.388013\t Accuracy:81.250%\n",
            "Epoch : 11\t Loss: 0.470878\t Accuracy:87.500%\n",
            "Epoch : 12\t Loss: 0.469079\t Accuracy:87.500%\n",
            "Epoch : 13\t Loss: 0.585117\t Accuracy:81.250%\n",
            "Epoch : 14\t Loss: 0.146209\t Accuracy:93.750%\n",
            "Epoch : 15\t Loss: 0.188153\t Accuracy:87.500%\n",
            "Epoch : 16\t Loss: 0.087268\t Accuracy:93.750%\n",
            "Epoch : 17\t Loss: 0.091456\t Accuracy:100.000%\n",
            "Epoch : 18\t Loss: 0.044638\t Accuracy:100.000%\n",
            "Epoch : 19\t Loss: 0.113647\t Accuracy:100.000%\n",
            "Epoch : 20\t Loss: 0.300401\t Accuracy:93.750%\n",
            "Epoch : 21\t Loss: 0.040848\t Accuracy:100.000%\n",
            "Epoch : 22\t Loss: 0.027219\t Accuracy:100.000%\n",
            "Epoch : 23\t Loss: 0.003535\t Accuracy:100.000%\n",
            "Epoch : 24\t Loss: 0.176087\t Accuracy:93.750%\n",
            "Epoch : 25\t Loss: 0.004028\t Accuracy:100.000%\n",
            "Epoch : 26\t Loss: 0.113756\t Accuracy:93.750%\n",
            "Epoch : 27\t Loss: 0.063463\t Accuracy:100.000%\n",
            "Epoch : 28\t Loss: 0.148644\t Accuracy:93.750%\n",
            "Epoch : 29\t Loss: 0.015324\t Accuracy:100.000%\n",
            "Epoch : 30\t Loss: 0.000709\t Accuracy:100.000%\n",
            "Epoch : 31\t Loss: 0.001402\t Accuracy:100.000%\n",
            "Epoch : 32\t Loss: 0.865054\t Accuracy:87.500%\n",
            "Epoch : 33\t Loss: 0.017713\t Accuracy:100.000%\n",
            "Epoch : 34\t Loss: 0.011100\t Accuracy:100.000%\n",
            "Epoch : 35\t Loss: 0.001350\t Accuracy:100.000%\n",
            "Epoch : 36\t Loss: 0.357122\t Accuracy:93.750%\n",
            "Epoch : 37\t Loss: 0.354869\t Accuracy:93.750%\n",
            "Epoch : 38\t Loss: 0.004861\t Accuracy:100.000%\n",
            "Epoch : 39\t Loss: 0.000314\t Accuracy:100.000%\n",
            "Epoch : 40\t Loss: 0.130258\t Accuracy:93.750%\n",
            "Epoch : 41\t Loss: 0.004111\t Accuracy:100.000%\n",
            "Epoch : 42\t Loss: 0.001327\t Accuracy:100.000%\n",
            "Epoch : 43\t Loss: 0.003028\t Accuracy:100.000%\n",
            "Epoch : 44\t Loss: 0.181754\t Accuracy:87.500%\n",
            "Epoch : 45\t Loss: 0.134639\t Accuracy:93.750%\n",
            "Epoch : 46\t Loss: 0.224578\t Accuracy:87.500%\n",
            "Epoch : 47\t Loss: 0.002608\t Accuracy:100.000%\n",
            "Epoch : 48\t Loss: 0.026427\t Accuracy:100.000%\n",
            "Epoch : 49\t Loss: 0.017688\t Accuracy:100.000%\n"
          ],
          "name": "stdout"
        }
      ]
    },
    {
      "cell_type": "code",
      "metadata": {
        "id": "FTg0vnonwjjg"
      },
      "source": [
        "torch.save(model.state_dict(),'/content/drive/My Drive/Colab Notebooks/Music Informatics/2D_CNN_Librosa_melspectrogram_all_samples.pth')"
      ],
      "execution_count": 39,
      "outputs": []
    },
    {
      "cell_type": "code",
      "metadata": {
        "id": "6JfdMQbLLsiV",
        "outputId": "03f9cc14-d444-4cab-b5f4-bf9a390510bc",
        "colab": {
          "base_uri": "https://localhost:8080/",
          "height": 350
        }
      },
      "source": [
        "fig, axs = plt.subplots(1, 2, figsize=(20, 5))\n",
        "\n",
        "axs[0].grid()\n",
        "axs[0].plot(mel_epoch_plot, mel_loss_plot, color=colors['red'])\n",
        "axs[0].set(xlabel='Epoch', ylabel='Loss')\n",
        "axs[0].title.set_text('Spectrogram loss over training epoches')\n",
        "\n",
        "axs[1].grid()\n",
        "axs[1].plot(mel_epoch_plot, mel_accuracy_plot, color=colors['dodgerblue'])\n",
        "axs[1].set(xlabel='Epoch', ylabel='Accuracy')\n",
        "axs[1].title.set_text('Spectrogram accuracy over training epoches')"
      ],
      "execution_count": 69,
      "outputs": [
        {
          "output_type": "display_data",
          "data": {
            "image/png": "[encoded data removed]",
            "text/plain": [
              "<Figure size 1440x360 with 2 Axes>"
            ]
          },
          "metadata": {
            "tags": [],
            "needs_background": "light"
          }
        }
      ]
    },
    {
      "cell_type": "code",
      "metadata": {
        "id": "3EVCCvmdwzk7",
        "outputId": "10a277f3-7454-4cd9-be82-9bb53c51c1d3",
        "colab": {
          "base_uri": "https://localhost:8080/"
        }
      },
      "source": [
        "model.eval()"
      ],
      "execution_count": 41,
      "outputs": [
        {
          "output_type": "execute_result",
          "data": {
            "text/plain": [
              "MusicCNN(\n",
              "  (_convblocks): Sequential(\n",
              "    (0): Conv2d(1, 64, kernel_size=(3, 3), stride=(1, 1), padding=(1, 1))\n",
              "    (1): BatchNorm2d(64, eps=1e-05, momentum=0.1, affine=True, track_running_stats=True)\n",
              "    (2): ReLU()\n",
              "    (3): MaxPool2d(kernel_size=2, stride=2, padding=0, dilation=1, ceil_mode=False)\n",
              "    (4): Conv2d(64, 128, kernel_size=(3, 3), stride=(1, 1), padding=(1, 1))\n",
              "    (5): BatchNorm2d(128, eps=1e-05, momentum=0.1, affine=True, track_running_stats=True)\n",
              "    (6): ReLU()\n",
              "    (7): MaxPool2d(kernel_size=2, stride=2, padding=0, dilation=1, ceil_mode=False)\n",
              "    (8): Conv2d(128, 256, kernel_size=(3, 3), stride=(1, 1), padding=(1, 1))\n",
              "    (9): BatchNorm2d(256, eps=1e-05, momentum=0.1, affine=True, track_running_stats=True)\n",
              "    (10): ReLU()\n",
              "    (11): MaxPool2d(kernel_size=4, stride=4, padding=0, dilation=1, ceil_mode=False)\n",
              "    (12): Conv2d(256, 512, kernel_size=(3, 3), stride=(1, 1), padding=(1, 1))\n",
              "    (13): BatchNorm2d(512, eps=1e-05, momentum=0.1, affine=True, track_running_stats=True)\n",
              "    (14): ReLU()\n",
              "    (15): MaxPool2d(kernel_size=4, stride=4, padding=0, dilation=1, ceil_mode=False)\n",
              "  )\n",
              "  (_classifier): Sequential(\n",
              "    (0): Linear(in_features=2560, out_features=1024, bias=True)\n",
              "    (1): ReLU()\n",
              "    (2): Dropout(p=0.5, inplace=False)\n",
              "    (3): Linear(in_features=1024, out_features=256, bias=True)\n",
              "    (4): ReLU()\n",
              "    (5): Dropout(p=0.5, inplace=False)\n",
              "    (6): Linear(in_features=256, out_features=10, bias=True)\n",
              "  )\n",
              ")"
            ]
          },
          "metadata": {
            "tags": []
          },
          "execution_count": 41
        }
      ]
    },
    {
      "cell_type": "code",
      "metadata": {
        "id": "LLv81b3lw9Qv",
        "outputId": "14260a46-2e3b-4833-810e-be7abecedb10",
        "colab": {
          "base_uri": "https://localhost:8080/"
        }
      },
      "source": [
        "correct = 0\n",
        "total = 0\n",
        "with torch.no_grad():\n",
        "    for data in test_loader:\n",
        "        images, labels = data\n",
        "        outputs = model(images)\n",
        "        _, predicted = torch.max(outputs.data, 1)\n",
        "        total += labels.size(0)\n",
        "        correct += (predicted == labels).sum().item()\n",
        "\n",
        "print('Accuracy of the network on the test data: %d %%' % (100 * correct / total))"
      ],
      "execution_count": 42,
      "outputs": [
        {
          "output_type": "stream",
          "text": [
            "Accuracy of the network on the test data: 82 %\n"
          ],
          "name": "stdout"
        }
      ]
    },
    {
      "cell_type": "markdown",
      "metadata": {
        "id": "k-nqQ0Qi6l70"
      },
      "source": [
        "## Chromagram"
      ]
    },
    {
      "cell_type": "code",
      "metadata": {
        "id": "-scRvMvL6kN3"
      },
      "source": [
        "chroma = []\n",
        "genre_new = []\n",
        "N_FFT = 512\n",
        "HOP_LEN = 256\n",
        "num_div = 8"
      ],
      "execution_count": 43,
      "outputs": []
    },
    {
      "cell_type": "code",
      "metadata": {
        "id": "0431Ey1L631D"
      },
      "source": [
        "for idx, wav in enumerate(music_dataset):\n",
        "    if wav.endswith('.wav'):\n",
        "        y, sfr = librosa.load(wav)\n",
        "        div = np.split(y[:660000], num_div)\n",
        "        for chunck in div:\n",
        "            chromagram = librosa.feature.chroma_stft(y=chunck, sr=sfr, hop_length=HOP_LEN, n_fft=N_FFT)\n",
        "            chromagram_dB = librosa.power_to_db(chromagram, ref=np.max)\n",
        "            chroma.append(chromagram_dB)\n",
        "            genre_new.append(genre_target[idx])"
      ],
      "execution_count": 44,
      "outputs": []
    },
    {
      "cell_type": "code",
      "metadata": {
        "id": "VIlErINf75De"
      },
      "source": [
        "genre_id = [genre_dict[item] for item in genre_new]"
      ],
      "execution_count": 45,
      "outputs": []
    },
    {
      "cell_type": "code",
      "metadata": {
        "id": "PfjmO7Go970b"
      },
      "source": [
        "from sklearn.model_selection import train_test_split\n",
        "X_train, X_test, y_train, y_test = train_test_split(mel_spec, genre_id, test_size=0.2, random_state=42)"
      ],
      "execution_count": 46,
      "outputs": []
    },
    {
      "cell_type": "code",
      "metadata": {
        "id": "q9fOR4Ml9_jG"
      },
      "source": [
        "BATCH_SIZE = 16\n",
        "\n",
        "torch_X_train = torch.unsqueeze(torch.cuda.FloatTensor(X_train), 1)\n",
        "torch_y_train = torch.cuda.LongTensor(y_train)\n",
        "\n",
        "torch_X_test = torch.unsqueeze(torch.cuda.FloatTensor(X_test), 1)\n",
        "torch_y_test = torch.cuda.LongTensor(y_test)\n",
        "\n",
        "# Pytorch train and test data sets\n",
        "train = torch.utils.data.TensorDataset(torch_X_train,torch_y_train)\n",
        "test = torch.utils.data.TensorDataset(torch_X_test,torch_y_test)\n",
        "\n",
        "# data loader\n",
        "train_loader = torch.utils.data.DataLoader(train, batch_size = BATCH_SIZE, shuffle = True)\n",
        "test_loader = torch.utils.data.DataLoader(test, batch_size = BATCH_SIZE, shuffle = False)\n"
      ],
      "execution_count": 47,
      "outputs": []
    },
    {
      "cell_type": "code",
      "metadata": {
        "id": "asY39MxD-CZV"
      },
      "source": [
        "model = MusicCNN()\n",
        "model.cuda()\n",
        "error = nn.CrossEntropyLoss()\n",
        "learning_rate = 0.001\n",
        "optimizer = torch.optim.Adam(model.parameters(), lr=learning_rate)"
      ],
      "execution_count": 52,
      "outputs": []
    },
    {
      "cell_type": "code",
      "metadata": {
        "id": "fBw6lSI4DEm2"
      },
      "source": [
        "chroma_loss_plot = []\n",
        "chroma_accuracy_plot = []\n",
        "chroma_epoch_plot = []"
      ],
      "execution_count": 53,
      "outputs": []
    },
    {
      "cell_type": "code",
      "metadata": {
        "id": "1tagzbE1-Iux",
        "outputId": "41fed1ee-ac98-4412-fb7e-7919fe1bea87",
        "colab": {
          "base_uri": "https://localhost:8080/"
        }
      },
      "source": [
        "EPOCHS = 50\n",
        "model.train()\n",
        "for epoch in range(EPOCHS):\n",
        "    correct = 0\n",
        "    for batch_idx, (X_batch, y_batch) in enumerate(train_loader):\n",
        "        var_X_batch = Variable(X_batch).float()\n",
        "        var_y_batch = Variable(y_batch)\n",
        "        optimizer.zero_grad()\n",
        "        output = model(var_X_batch)\n",
        "        loss = error(output, var_y_batch)\n",
        "        loss.backward()\n",
        "        optimizer.step()\n",
        "\n",
        "        # Total correct predictions\n",
        "        predicted = torch.max(output.data, 1)[1] \n",
        "        correct += (predicted == var_y_batch).sum()\n",
        "        #print(correct)\n",
        "        if batch_idx % 480 == 0:\n",
        "            print('Epoch : {}\\t Loss: {:.6f}\\t Accuracy:{:.3f}%'.format(epoch, loss.data, float(correct*100) / float(BATCH_SIZE*(batch_idx+1))))\n",
        "            chroma_epoch_plot.append(epoch)\n",
        "            chroma_loss_plot.append(loss.data)\n",
        "            chroma_accuracy_plot.append(float(correct*100) / float(BATCH_SIZE*(batch_idx+1)))"
      ],
      "execution_count": 54,
      "outputs": [
        {
          "output_type": "stream",
          "text": [
            "Epoch : 0\t Loss: 5.727234\t Accuracy:6.250%\n",
            "Epoch : 1\t Loss: 2.324697\t Accuracy:12.500%\n",
            "Epoch : 2\t Loss: 1.337258\t Accuracy:56.250%\n",
            "Epoch : 3\t Loss: 1.057863\t Accuracy:75.000%\n",
            "Epoch : 4\t Loss: 1.155136\t Accuracy:75.000%\n",
            "Epoch : 5\t Loss: 0.989323\t Accuracy:50.000%\n",
            "Epoch : 6\t Loss: 0.734728\t Accuracy:75.000%\n",
            "Epoch : 7\t Loss: 0.655612\t Accuracy:75.000%\n",
            "Epoch : 8\t Loss: 0.367879\t Accuracy:87.500%\n",
            "Epoch : 9\t Loss: 0.384174\t Accuracy:87.500%\n",
            "Epoch : 10\t Loss: 0.682889\t Accuracy:87.500%\n",
            "Epoch : 11\t Loss: 0.542540\t Accuracy:81.250%\n",
            "Epoch : 12\t Loss: 0.177692\t Accuracy:93.750%\n",
            "Epoch : 13\t Loss: 0.518877\t Accuracy:87.500%\n",
            "Epoch : 14\t Loss: 0.234532\t Accuracy:93.750%\n",
            "Epoch : 15\t Loss: 0.490346\t Accuracy:75.000%\n",
            "Epoch : 16\t Loss: 0.269706\t Accuracy:87.500%\n",
            "Epoch : 17\t Loss: 0.266335\t Accuracy:93.750%\n",
            "Epoch : 18\t Loss: 0.049784\t Accuracy:100.000%\n",
            "Epoch : 19\t Loss: 0.115014\t Accuracy:100.000%\n",
            "Epoch : 20\t Loss: 0.070585\t Accuracy:100.000%\n",
            "Epoch : 21\t Loss: 0.033334\t Accuracy:100.000%\n",
            "Epoch : 22\t Loss: 0.290210\t Accuracy:93.750%\n",
            "Epoch : 23\t Loss: 0.148559\t Accuracy:93.750%\n",
            "Epoch : 24\t Loss: 0.367319\t Accuracy:93.750%\n",
            "Epoch : 25\t Loss: 0.029754\t Accuracy:100.000%\n",
            "Epoch : 26\t Loss: 0.035482\t Accuracy:100.000%\n",
            "Epoch : 27\t Loss: 0.067522\t Accuracy:93.750%\n",
            "Epoch : 28\t Loss: 0.011901\t Accuracy:100.000%\n",
            "Epoch : 29\t Loss: 0.294366\t Accuracy:93.750%\n",
            "Epoch : 30\t Loss: 0.034766\t Accuracy:100.000%\n",
            "Epoch : 31\t Loss: 0.002034\t Accuracy:100.000%\n",
            "Epoch : 32\t Loss: 0.038891\t Accuracy:100.000%\n",
            "Epoch : 33\t Loss: 0.418010\t Accuracy:93.750%\n",
            "Epoch : 34\t Loss: 0.000880\t Accuracy:100.000%\n",
            "Epoch : 35\t Loss: 0.320710\t Accuracy:93.750%\n",
            "Epoch : 36\t Loss: 0.004021\t Accuracy:100.000%\n",
            "Epoch : 37\t Loss: 0.550221\t Accuracy:93.750%\n",
            "Epoch : 38\t Loss: 0.121779\t Accuracy:93.750%\n",
            "Epoch : 39\t Loss: 0.000007\t Accuracy:100.000%\n",
            "Epoch : 40\t Loss: 0.015528\t Accuracy:100.000%\n",
            "Epoch : 41\t Loss: 0.171386\t Accuracy:93.750%\n",
            "Epoch : 42\t Loss: 0.068173\t Accuracy:93.750%\n",
            "Epoch : 43\t Loss: 0.872526\t Accuracy:93.750%\n",
            "Epoch : 44\t Loss: 0.003518\t Accuracy:100.000%\n",
            "Epoch : 45\t Loss: 0.660398\t Accuracy:81.250%\n",
            "Epoch : 46\t Loss: 0.004156\t Accuracy:100.000%\n",
            "Epoch : 47\t Loss: 0.000431\t Accuracy:100.000%\n",
            "Epoch : 48\t Loss: 0.001460\t Accuracy:100.000%\n",
            "Epoch : 49\t Loss: 0.002159\t Accuracy:100.000%\n"
          ],
          "name": "stdout"
        }
      ]
    },
    {
      "cell_type": "code",
      "metadata": {
        "id": "fLEkyJtO-NsT"
      },
      "source": [
        "torch.save(model.state_dict(),'/content/drive/My Drive/Colab Notebooks/Music Informatics/2D_CNN_Librosa_chromagram_all_samples.pth')"
      ],
      "execution_count": 55,
      "outputs": []
    },
    {
      "cell_type": "code",
      "metadata": {
        "id": "nwu2hW6TEbpB",
        "outputId": "69a24b24-5a0a-4fe7-bffb-66edc60fe4b5",
        "colab": {
          "base_uri": "https://localhost:8080/",
          "height": 350
        }
      },
      "source": [
        "fig, axs = plt.subplots(1, 2, figsize=(20, 5))\n",
        "\n",
        "axs[0].grid()\n",
        "axs[0].plot(chroma_epoch_plot, chroma_loss_plot, color=colors['orange'])\n",
        "axs[0].set(xlabel='Epoch', ylabel='Loss')\n",
        "axs[0].title.set_text('Chromagram loss over training epoches')\n",
        "\n",
        "axs[1].grid()\n",
        "axs[1].plot(chroma_epoch_plot, chroma_accuracy_plot, color=colors['forestgreen'])\n",
        "axs[1].set(xlabel='Epoch', ylabel='Accuracy')\n",
        "axs[1].title.set_text('Chromagram accuracy over training epoches')"
      ],
      "execution_count": 60,
      "outputs": [
        {
          "output_type": "display_data",
          "data": {
            "image/png": "[encoded data removed]",
            "text/plain": [
              "<Figure size 1440x360 with 2 Axes>"
            ]
          },
          "metadata": {
            "tags": [],
            "needs_background": "light"
          }
        }
      ]
    },
    {
      "cell_type": "code",
      "metadata": {
        "id": "uGINNLpB-SpR",
        "outputId": "ac8daf7a-8eb6-46d4-f22b-db772a63f956",
        "colab": {
          "base_uri": "https://localhost:8080/"
        }
      },
      "source": [
        "model.eval()"
      ],
      "execution_count": 57,
      "outputs": [
        {
          "output_type": "execute_result",
          "data": {
            "text/plain": [
              "MusicCNN(\n",
              "  (_convblocks): Sequential(\n",
              "    (0): Conv2d(1, 64, kernel_size=(3, 3), stride=(1, 1), padding=(1, 1))\n",
              "    (1): BatchNorm2d(64, eps=1e-05, momentum=0.1, affine=True, track_running_stats=True)\n",
              "    (2): ReLU()\n",
              "    (3): MaxPool2d(kernel_size=2, stride=2, padding=0, dilation=1, ceil_mode=False)\n",
              "    (4): Conv2d(64, 128, kernel_size=(3, 3), stride=(1, 1), padding=(1, 1))\n",
              "    (5): BatchNorm2d(128, eps=1e-05, momentum=0.1, affine=True, track_running_stats=True)\n",
              "    (6): ReLU()\n",
              "    (7): MaxPool2d(kernel_size=2, stride=2, padding=0, dilation=1, ceil_mode=False)\n",
              "    (8): Conv2d(128, 256, kernel_size=(3, 3), stride=(1, 1), padding=(1, 1))\n",
              "    (9): BatchNorm2d(256, eps=1e-05, momentum=0.1, affine=True, track_running_stats=True)\n",
              "    (10): ReLU()\n",
              "    (11): MaxPool2d(kernel_size=4, stride=4, padding=0, dilation=1, ceil_mode=False)\n",
              "    (12): Conv2d(256, 512, kernel_size=(3, 3), stride=(1, 1), padding=(1, 1))\n",
              "    (13): BatchNorm2d(512, eps=1e-05, momentum=0.1, affine=True, track_running_stats=True)\n",
              "    (14): ReLU()\n",
              "    (15): MaxPool2d(kernel_size=4, stride=4, padding=0, dilation=1, ceil_mode=False)\n",
              "  )\n",
              "  (_classifier): Sequential(\n",
              "    (0): Linear(in_features=2560, out_features=1024, bias=True)\n",
              "    (1): ReLU()\n",
              "    (2): Dropout(p=0.5, inplace=False)\n",
              "    (3): Linear(in_features=1024, out_features=256, bias=True)\n",
              "    (4): ReLU()\n",
              "    (5): Dropout(p=0.5, inplace=False)\n",
              "    (6): Linear(in_features=256, out_features=10, bias=True)\n",
              "  )\n",
              ")"
            ]
          },
          "metadata": {
            "tags": []
          },
          "execution_count": 57
        }
      ]
    },
    {
      "cell_type": "code",
      "metadata": {
        "id": "Cf_RlqaQ-Xvm",
        "outputId": "87c1a31d-c104-4c60-bd21-4e68f7fe249b",
        "colab": {
          "base_uri": "https://localhost:8080/"
        }
      },
      "source": [
        "correct = 0\n",
        "total = 0\n",
        "with torch.no_grad():\n",
        "    for data in test_loader:\n",
        "        images, labels = data\n",
        "        outputs = model(images)\n",
        "        _, predicted = torch.max(outputs.data, 1)\n",
        "        total += labels.size(0)\n",
        "        correct += (predicted == labels).sum().item()\n",
        "\n",
        "print('Accuracy of the network on the test data: %d %%' % (100 * correct / total))"
      ],
      "execution_count": 58,
      "outputs": [
        {
          "output_type": "stream",
          "text": [
            "Accuracy of the network on the test data: 82 %\n"
          ],
          "name": "stdout"
        }
      ]
    },
    {
      "cell_type": "markdown",
      "metadata": {
        "id": "8UjuYFGTFIXa"
      },
      "source": [
        "## Melspectrogram vs Chromagram"
      ]
    },
    {
      "cell_type": "code",
      "metadata": {
        "id": "DTWH-tH_E64b",
        "outputId": "2ea0658d-4478-4e64-f75d-8517443c5633",
        "colab": {
          "base_uri": "https://localhost:8080/",
          "height": 367
        }
      },
      "source": [
        "fig, axs = plt.subplots(1, 2, figsize=(20, 5))\n",
        "\n",
        "axs[0].grid()\n",
        "axs[0].plot(mel_epoch_plot, mel_loss_plot, color=colors['red'], label='melspectrogram')\n",
        "axs[0].plot(chroma_epoch_plot, chroma_loss_plot, color=colors['orange'], label='chroma')\n",
        "axs[0].set(xlabel='Epoch', ylabel='Loss')\n",
        "axs[0].title.set_text('Loss over training epoches')\n",
        "axs[0].legend(loc='best')\n",
        "\n",
        "axs[1].grid()\n",
        "axs[1].plot(mel_epoch_plot, mel_accuracy_plot, color=colors['dodgerblue'], label='melspectrogram')\n",
        "axs[1].plot(chroma_epoch_plot, chroma_accuracy_plot, color=colors['forestgreen'], label='chroma')\n",
        "axs[1].set(xlabel='Epoch', ylabel='Accuracy')\n",
        "axs[1].title.set_text('Accuracy over training epoches')\n",
        "axs[1].legend(loc='best')"
      ],
      "execution_count": 70,
      "outputs": [
        {
          "output_type": "execute_result",
          "data": {
            "text/plain": [
              "<matplotlib.legend.Legend at 0x7fa46edf8be0>"
            ]
          },
          "metadata": {
            "tags": []
          },
          "execution_count": 70
        },
        {
          "output_type": "display_data",
          "data": {
            "image/png": "[encoded data removed]",
            "text/plain": [
              "<Figure size 1440x360 with 2 Axes>"
            ]
          },
          "metadata": {
            "tags": [],
            "needs_background": "light"
          }
        }
      ]
    }
  ]
}