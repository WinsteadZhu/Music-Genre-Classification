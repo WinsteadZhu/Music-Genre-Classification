{
  "nbformat": 4,
  "nbformat_minor": 0,
  "metadata": {
    "colab": {
      "name": "2D_CNN_melspec_images_all_samples.ipynb",
      "provenance": [],
      "collapsed_sections": []
    },
    "kernelspec": {
      "name": "python3",
      "display_name": "Python 3"
    },
    "accelerator": "GPU"
  },
  "cells": [
    {
      "cell_type": "code",
      "metadata": {
        "id": "OnYmhdEksHyw"
      },
      "source": [
        "import numpy as np\n",
        "import pandas as pd\n",
        "import os\n",
        "from librosa import feature\n",
        "import librosa \n",
        "import matplotlib.pyplot as plt\n",
        "from matplotlib import colors as mcolors\n",
        "import IPython.display as ipd  # To play sound in the notebook\n",
        "import librosa.display\n",
        "import json\n",
        "from matplotlib.pyplot import specgram\n",
        "import seaborn as sns\n",
        "import glob \n",
        "from tqdm import tqdm\n",
        "import pickle\n",
        "from PIL import Image\n",
        "import cv2\n",
        "\n",
        "import torch\n",
        "import torch.nn as nn\n",
        "import torch.nn.functional as F\n",
        "from torch.nn import init\n",
        "from torch.utils.data import Dataset, DataLoader, TensorDataset\n",
        "from torchvision import transforms, utils\n",
        "from torch.autograd import Variable\n",
        "from torchvision import models\n",
        "%matplotlib inline"
      ],
      "execution_count": 1,
      "outputs": []
    },
    {
      "cell_type": "code",
      "metadata": {
        "id": "eeSFUCL188_p"
      },
      "source": [
        "colors = dict(mcolors.BASE_COLORS, **mcolors.CSS4_COLORS)"
      ],
      "execution_count": 2,
      "outputs": []
    },
    {
      "cell_type": "code",
      "metadata": {
        "id": "EfUpMAauDc5x"
      },
      "source": [
        "from collections import defaultdict"
      ],
      "execution_count": 3,
      "outputs": []
    },
    {
      "cell_type": "code",
      "metadata": {
        "id": "uAYh2ZZnzEDm"
      },
      "source": [
        "genres = ['blues', 'classical', 'country', 'disco', 'hiphop', 'jazz', 'metal', 'pop', 'reggae', 'rock']"
      ],
      "execution_count": 4,
      "outputs": []
    },
    {
      "cell_type": "code",
      "metadata": {
        "id": "rKWQV-vPy2wa"
      },
      "source": [
        "genre_dict = {\n",
        "    'blues': 0,\n",
        "    'classical': 1,\n",
        "    'country': 2,\n",
        "    'disco': 3,\n",
        "    'hiphop': 4,\n",
        "    'jazz': 5,\n",
        "    'metal': 6,\n",
        "    'pop': 7,\n",
        "    'reggae': 8,\n",
        "    'rock': 9,\n",
        "    }"
      ],
      "execution_count": 5,
      "outputs": []
    },
    {
      "cell_type": "code",
      "metadata": {
        "id": "MbjFOk7Awhuc"
      },
      "source": [
        "images = []\n",
        "labels = []"
      ],
      "execution_count": 6,
      "outputs": []
    },
    {
      "cell_type": "code",
      "metadata": {
        "id": "b3vyZswW7vA3"
      },
      "source": [
        "transform2 = transforms.Compose([\n",
        "    transforms.ToTensor(),\n",
        "    transforms.Normalize(mean = (0.5, 0.5, 0.5), std = (0.5, 0.5, 0.5))\n",
        "    ]\n",
        ")"
      ],
      "execution_count": 7,
      "outputs": []
    },
    {
      "cell_type": "code",
      "metadata": {
        "id": "p4BAcm1ED5Wz",
        "outputId": "9c4ae949-54e0-47a7-9d34-6c6ee3f383ad",
        "colab": {
          "base_uri": "https://localhost:8080/"
        }
      },
      "source": [
        "%cd /content/drive/My Drive/Colab Notebooks/Music Informatics"
      ],
      "execution_count": 10,
      "outputs": [
        {
          "output_type": "stream",
          "text": [
            "/content/drive/My Drive/Colab Notebooks/Music Informatics\n"
          ],
          "name": "stdout"
        }
      ]
    },
    {
      "cell_type": "code",
      "metadata": {
        "id": "L0mQ9H7kxC4x"
      },
      "source": [
        "directory = './images/'\n",
        "\n",
        "for filename in os.listdir(directory):\n",
        "    if filename.endswith('.png'):\n",
        "        label = genre_dict[filename[:-9]]\n",
        "        image = cv2.imread(os.path.join(directory, filename))\n",
        "        image = transform2(image)\n",
        "        images.append(image)\n",
        "        labels.append(label)"
      ],
      "execution_count": 11,
      "outputs": []
    },
    {
      "cell_type": "code",
      "metadata": {
        "id": "xBC-hAh0_vEz",
        "outputId": "1ce2d0fc-b42e-4e3f-cd53-051bb86f4921",
        "colab": {
          "base_uri": "https://localhost:8080/"
        }
      },
      "source": [
        "print(len(images))"
      ],
      "execution_count": 12,
      "outputs": [
        {
          "output_type": "stream",
          "text": [
            "999\n"
          ],
          "name": "stdout"
        }
      ]
    },
    {
      "cell_type": "code",
      "metadata": {
        "id": "LRiiD4Br5Rcq",
        "outputId": "b0c56e05-5b44-4ad5-f994-19598d048945",
        "colab": {
          "base_uri": "https://localhost:8080/"
        }
      },
      "source": [
        "# check equal pixels\n",
        "torch.sum(images[0] == images[100])"
      ],
      "execution_count": 13,
      "outputs": [
        {
          "output_type": "execute_result",
          "data": {
            "text/plain": [
              "tensor(250753)"
            ]
          },
          "metadata": {
            "tags": []
          },
          "execution_count": 13
        }
      ]
    },
    {
      "cell_type": "code",
      "metadata": {
        "id": "vSFkoxSn5g1p",
        "outputId": "62c794fd-2ca0-4328-b7a8-fca64e7036bc",
        "colab": {
          "base_uri": "https://localhost:8080/"
        }
      },
      "source": [
        "# check inequal pixels\n",
        "torch.sum(images[0] != images[100])"
      ],
      "execution_count": 14,
      "outputs": [
        {
          "output_type": "execute_result",
          "data": {
            "text/plain": [
              "tensor(122495)"
            ]
          },
          "metadata": {
            "tags": []
          },
          "execution_count": 14
        }
      ]
    },
    {
      "cell_type": "code",
      "metadata": {
        "id": "XDuvulsc1C8L"
      },
      "source": [
        "#to_pil = transforms.ToPILImage()\n",
        "#plt.imshow(to_pil(images[0]))"
      ],
      "execution_count": 15,
      "outputs": []
    },
    {
      "cell_type": "code",
      "metadata": {
        "id": "AtriS3m10TJe"
      },
      "source": [
        "from sklearn.model_selection import train_test_split\n",
        "X_train, X_test, y_train, y_test = train_test_split(images, labels, test_size=0.2, random_state=42)"
      ],
      "execution_count": 16,
      "outputs": []
    },
    {
      "cell_type": "code",
      "metadata": {
        "id": "8ITz5QHK1UyJ",
        "outputId": "6b5b1f84-55b6-4746-b15f-0a81f2596313",
        "colab": {
          "base_uri": "https://localhost:8080/"
        }
      },
      "source": [
        "X_train[0].size()"
      ],
      "execution_count": 17,
      "outputs": [
        {
          "output_type": "execute_result",
          "data": {
            "text/plain": [
              "torch.Size([3, 288, 432])"
            ]
          },
          "metadata": {
            "tags": []
          },
          "execution_count": 17
        }
      ]
    },
    {
      "cell_type": "code",
      "metadata": {
        "id": "bjA2Ibbk18ti"
      },
      "source": [
        "torch_X_train = torch.stack(X_train).cuda()\n",
        "torch_y_train = torch.cuda.LongTensor(y_train)\n",
        "\n",
        "torch_X_test = torch.stack(X_test).cuda()\n",
        "torch_y_test = torch.cuda.LongTensor(y_test)"
      ],
      "execution_count": 18,
      "outputs": []
    },
    {
      "cell_type": "code",
      "metadata": {
        "id": "Zr31fK062y5r",
        "outputId": "83c163ea-aadd-4c4a-eacb-8981b68a69ff",
        "colab": {
          "base_uri": "https://localhost:8080/"
        }
      },
      "source": [
        "print(torch_X_train.size())\n",
        "print(torch_y_train.size())\n",
        "print(torch_X_test.size())\n",
        "print(torch_y_test.size())"
      ],
      "execution_count": 19,
      "outputs": [
        {
          "output_type": "stream",
          "text": [
            "torch.Size([799, 3, 288, 432])\n",
            "torch.Size([799])\n",
            "torch.Size([200, 3, 288, 432])\n",
            "torch.Size([200])\n"
          ],
          "name": "stdout"
        }
      ]
    },
    {
      "cell_type": "code",
      "metadata": {
        "id": "sz_rBc4U2TE_"
      },
      "source": [
        "# Pytorch train and test sets\n",
        "train = torch.utils.data.TensorDataset(torch_X_train,torch_y_train)\n",
        "test = torch.utils.data.TensorDataset(torch_X_test,torch_y_test)"
      ],
      "execution_count": 20,
      "outputs": []
    },
    {
      "cell_type": "code",
      "metadata": {
        "id": "UAHIurgm2YC6"
      },
      "source": [
        "BATCH_SIZE = 16\n",
        "\n",
        "# data loader\n",
        "train_loader = torch.utils.data.DataLoader(train, batch_size = BATCH_SIZE, shuffle = True)\n",
        "test_loader = torch.utils.data.DataLoader(test, batch_size = BATCH_SIZE, shuffle = False)"
      ],
      "execution_count": 21,
      "outputs": []
    },
    {
      "cell_type": "code",
      "metadata": {
        "id": "6cbrBiE1GgJb"
      },
      "source": [
        "class MusicCNN(nn.Module):\n",
        "    def __init__(self):\n",
        "        super(MusicCNN, self).__init__()\n",
        "        \n",
        "        self.conv1 = nn.Conv2d(in_channels=3, out_channels=64, kernel_size=1, stride=1, padding=1)\n",
        "        self.bn1 = nn.BatchNorm2d(64)\n",
        "        self.pool1 = nn.AvgPool2d(kernel_size=2)\n",
        "\n",
        "        self.conv2 =nn.Conv2d(in_channels=64, out_channels=128, kernel_size=1, stride=1, padding=1)\n",
        "        self.bn2 = nn.BatchNorm2d(128)\n",
        "        self.pool2 = nn.AvgPool2d(kernel_size=2)\n",
        "\n",
        "        self.conv3 = nn.Conv2d(in_channels=128, out_channels=256, kernel_size=1, stride=1, padding=1)\n",
        "        self.bn3 = nn.BatchNorm2d(256)\n",
        "        self.pool3 = nn.AvgPool2d(kernel_size=2)\n",
        "\n",
        "        self.conv4 = nn.Conv2d(in_channels=256, out_channels=512, kernel_size=1, stride=1, padding=1)\n",
        "        self.bn4 = nn.BatchNorm2d(512)\n",
        "        self.pool4 = nn.AvgPool2d(kernel_size=2)\n",
        "        \n",
        "        self.fc1 = nn.Linear(in_features=272384, out_features=1024)\n",
        "        self.fc2 = nn.Linear(in_features=1024, out_features=256)\n",
        "        self.fc3 = nn.Linear(in_features=256, out_features=10)\n",
        "\n",
        "    def forward(self, x):\n",
        "        x = self.pool1(F.relu(self.bn1(self.conv1(x))))\n",
        "        x = self.pool2(F.relu(self.bn2(self.conv2(x))))\n",
        "        x = self.pool3(F.relu(self.bn3(self.conv3(x))))\n",
        "        x = self.pool4(F.relu(self.bn4(self.conv4(x))))\n",
        "        x=x.view(x.size(0), -1)\n",
        "\n",
        "        #x = torch.transpose(x.view(x.size(0), x.size(1), -1), 1, 2)\n",
        "        #x = F.dropout(F.relu(self.fc1(x)), 0.5)\n",
        "        #x = F.dropout(F.relu(self.fc2(x)))\n",
        "        #x = F.dropout(F.relu(self.fc3(x)))\n",
        "        x = F.relu(self.fc1(x))\n",
        "        x = F.relu(self.fc2(x))\n",
        "        x = F.relu(self.fc3(x))\n",
        "        #x = x.view(x.size(0), -1)\n",
        "        return x\n",
        "\n",
        "    def _init_weights(self, layer) -> None:\n",
        "        if isinstance(layer, nn.Conv1d):\n",
        "            nn.init.kaiming_uniform_(layer.weight)\n",
        "        elif isinstance(layer, nn.Linear):\n",
        "            nn.init.xavier_uniform_(layer.weight)"
      ],
      "execution_count": 22,
      "outputs": []
    },
    {
      "cell_type": "code",
      "metadata": {
        "id": "_ICSUaWcA6zL"
      },
      "source": [
        "model = MusicCNN()\n",
        "model.cuda()\n",
        "error = nn.CrossEntropyLoss()\n",
        "learning_rate = 0.001\n",
        "optimizer = torch.optim.Adam(model.parameters(), lr=learning_rate)"
      ],
      "execution_count": 23,
      "outputs": []
    },
    {
      "cell_type": "code",
      "metadata": {
        "id": "-bncu1509c-z"
      },
      "source": [
        "loss_plot = []\n",
        "accuracy_plot = []\n",
        "epoch_plot = []"
      ],
      "execution_count": 24,
      "outputs": []
    },
    {
      "cell_type": "code",
      "metadata": {
        "id": "JJKQPIvuEzJw",
        "outputId": "172b512f-9d24-4e4c-a2b5-630000b3aeef",
        "colab": {
          "base_uri": "https://localhost:8080/"
        }
      },
      "source": [
        "EPOCHS = 50\n",
        "model.train()\n",
        "for epoch in range(EPOCHS):\n",
        "    correct = 0\n",
        "    for batch_idx, (X_batch, y_batch) in enumerate(train_loader):\n",
        "        var_X_batch = Variable(X_batch).float()\n",
        "        var_y_batch = Variable(y_batch)\n",
        "        optimizer.zero_grad()\n",
        "        output = model(var_X_batch)\n",
        "        loss = error(output, var_y_batch)\n",
        "        loss.backward()\n",
        "        optimizer.step()\n",
        "\n",
        "        # Total correct predictions\n",
        "        predicted = torch.max(output.data, 1)[1] \n",
        "        correct += (predicted == var_y_batch).sum()\n",
        "        # print(correct)\n",
        "        if batch_idx % 399 == 0:\n",
        "            print('Epoch : {}\\t Loss: {:.6f}\\t Accuracy:{:.3f}%'.format(epoch, loss.data, float(correct*100) / float(BATCH_SIZE*(batch_idx+1))))\n",
        "            epoch_plot.append(epoch)\n",
        "            accuracy_plot.append(float(correct*100) / float(BATCH_SIZE*(batch_idx+1)))\n",
        "            loss_plot.append(loss.data)"
      ],
      "execution_count": 25,
      "outputs": [
        {
          "output_type": "stream",
          "text": [
            "Epoch : 0\t Loss: 2.300508\t Accuracy:12.500%\n",
            "Epoch : 1\t Loss: 2.302585\t Accuracy:6.250%\n",
            "Epoch : 2\t Loss: 2.302585\t Accuracy:0.000%\n",
            "Epoch : 3\t Loss: 2.302585\t Accuracy:12.500%\n",
            "Epoch : 4\t Loss: 2.302585\t Accuracy:0.000%\n",
            "Epoch : 5\t Loss: 2.302585\t Accuracy:25.000%\n",
            "Epoch : 6\t Loss: 2.302585\t Accuracy:6.250%\n",
            "Epoch : 7\t Loss: 2.302585\t Accuracy:6.250%\n",
            "Epoch : 8\t Loss: 2.302585\t Accuracy:6.250%\n",
            "Epoch : 9\t Loss: 2.302585\t Accuracy:12.500%\n",
            "Epoch : 10\t Loss: 2.302585\t Accuracy:18.750%\n",
            "Epoch : 11\t Loss: 2.302585\t Accuracy:12.500%\n",
            "Epoch : 12\t Loss: 2.302585\t Accuracy:6.250%\n",
            "Epoch : 13\t Loss: 2.302585\t Accuracy:0.000%\n",
            "Epoch : 14\t Loss: 2.302585\t Accuracy:6.250%\n",
            "Epoch : 15\t Loss: 2.302585\t Accuracy:12.500%\n",
            "Epoch : 16\t Loss: 2.302585\t Accuracy:6.250%\n",
            "Epoch : 17\t Loss: 2.302585\t Accuracy:18.750%\n",
            "Epoch : 18\t Loss: 2.302585\t Accuracy:18.750%\n",
            "Epoch : 19\t Loss: 2.302585\t Accuracy:0.000%\n",
            "Epoch : 20\t Loss: 2.302585\t Accuracy:12.500%\n",
            "Epoch : 21\t Loss: 2.302585\t Accuracy:6.250%\n",
            "Epoch : 22\t Loss: 2.302585\t Accuracy:6.250%\n",
            "Epoch : 23\t Loss: 2.302585\t Accuracy:6.250%\n",
            "Epoch : 24\t Loss: 2.302585\t Accuracy:12.500%\n",
            "Epoch : 25\t Loss: 2.302585\t Accuracy:6.250%\n",
            "Epoch : 26\t Loss: 2.302585\t Accuracy:6.250%\n",
            "Epoch : 27\t Loss: 2.302585\t Accuracy:12.500%\n",
            "Epoch : 28\t Loss: 2.302585\t Accuracy:18.750%\n",
            "Epoch : 29\t Loss: 2.302585\t Accuracy:6.250%\n",
            "Epoch : 30\t Loss: 2.302585\t Accuracy:25.000%\n",
            "Epoch : 31\t Loss: 2.302585\t Accuracy:0.000%\n",
            "Epoch : 32\t Loss: 2.302585\t Accuracy:6.250%\n",
            "Epoch : 33\t Loss: 2.302585\t Accuracy:6.250%\n",
            "Epoch : 34\t Loss: 2.302585\t Accuracy:12.500%\n",
            "Epoch : 35\t Loss: 2.302585\t Accuracy:18.750%\n",
            "Epoch : 36\t Loss: 2.302585\t Accuracy:6.250%\n",
            "Epoch : 37\t Loss: 2.302585\t Accuracy:6.250%\n",
            "Epoch : 38\t Loss: 2.302585\t Accuracy:18.750%\n",
            "Epoch : 39\t Loss: 2.302585\t Accuracy:0.000%\n",
            "Epoch : 40\t Loss: 2.302585\t Accuracy:6.250%\n",
            "Epoch : 41\t Loss: 2.302585\t Accuracy:12.500%\n",
            "Epoch : 42\t Loss: 2.302585\t Accuracy:0.000%\n",
            "Epoch : 43\t Loss: 2.302585\t Accuracy:6.250%\n",
            "Epoch : 44\t Loss: 2.302585\t Accuracy:0.000%\n",
            "Epoch : 45\t Loss: 2.302585\t Accuracy:6.250%\n",
            "Epoch : 46\t Loss: 2.302585\t Accuracy:12.500%\n",
            "Epoch : 47\t Loss: 2.302585\t Accuracy:0.000%\n",
            "Epoch : 48\t Loss: 2.302585\t Accuracy:12.500%\n",
            "Epoch : 49\t Loss: 2.302585\t Accuracy:25.000%\n"
          ],
          "name": "stdout"
        }
      ]
    },
    {
      "cell_type": "code",
      "metadata": {
        "id": "GclHhZjVGeZY"
      },
      "source": [
        "torch.save(model.state_dict(),'/content/drive/My Drive/Colab Notebooks/Music Informatics/2D_CNN_melspec_images_all_samples.pth')"
      ],
      "execution_count": 26,
      "outputs": []
    },
    {
      "cell_type": "code",
      "metadata": {
        "id": "zHa3Xg-49mgX",
        "outputId": "6e2a639a-d056-4120-bf60-f93115d368e7",
        "colab": {
          "base_uri": "https://localhost:8080/",
          "height": 350
        }
      },
      "source": [
        "fig, axs = plt.subplots(1, 2, figsize=(20, 5))\n",
        "\n",
        "axs[0].grid()\n",
        "axs[0].plot(epoch_plot, loss_plot, color=colors['red'])\n",
        "axs[0].set(xlabel='Epoch', ylabel='Loss')\n",
        "axs[0].title.set_text('Loss over training epoches')\n",
        "\n",
        "axs[1].grid()\n",
        "axs[1].plot(epoch_plot, accuracy_plot, color=colors['dodgerblue'])\n",
        "axs[1].set(xlabel='Epoch', ylabel='Accuracy')\n",
        "axs[1].title.set_text('Accuracy over training epoches')"
      ],
      "execution_count": 27,
      "outputs": [
        {
          "output_type": "display_data",
          "data": {
            "image/png": "[encoded data removed]",
            "text/plain": [
              "<Figure size 1440x360 with 2 Axes>"
            ]
          },
          "metadata": {
            "tags": [],
            "needs_background": "light"
          }
        }
      ]
    },
    {
      "cell_type": "code",
      "metadata": {
        "id": "qcX8kEXyG1u_",
        "outputId": "6c754b96-f855-48ef-e0b4-a6d2e7a929aa",
        "colab": {
          "base_uri": "https://localhost:8080/"
        }
      },
      "source": [
        "model.eval()"
      ],
      "execution_count": 28,
      "outputs": [
        {
          "output_type": "execute_result",
          "data": {
            "text/plain": [
              "MusicCNN(\n",
              "  (conv1): Conv2d(3, 64, kernel_size=(1, 1), stride=(1, 1), padding=(1, 1))\n",
              "  (bn1): BatchNorm2d(64, eps=1e-05, momentum=0.1, affine=True, track_running_stats=True)\n",
              "  (pool1): AvgPool2d(kernel_size=2, stride=2, padding=0)\n",
              "  (conv2): Conv2d(64, 128, kernel_size=(1, 1), stride=(1, 1), padding=(1, 1))\n",
              "  (bn2): BatchNorm2d(128, eps=1e-05, momentum=0.1, affine=True, track_running_stats=True)\n",
              "  (pool2): AvgPool2d(kernel_size=2, stride=2, padding=0)\n",
              "  (conv3): Conv2d(128, 256, kernel_size=(1, 1), stride=(1, 1), padding=(1, 1))\n",
              "  (bn3): BatchNorm2d(256, eps=1e-05, momentum=0.1, affine=True, track_running_stats=True)\n",
              "  (pool3): AvgPool2d(kernel_size=2, stride=2, padding=0)\n",
              "  (conv4): Conv2d(256, 512, kernel_size=(1, 1), stride=(1, 1), padding=(1, 1))\n",
              "  (bn4): BatchNorm2d(512, eps=1e-05, momentum=0.1, affine=True, track_running_stats=True)\n",
              "  (pool4): AvgPool2d(kernel_size=2, stride=2, padding=0)\n",
              "  (fc1): Linear(in_features=272384, out_features=1024, bias=True)\n",
              "  (fc2): Linear(in_features=1024, out_features=256, bias=True)\n",
              "  (fc3): Linear(in_features=256, out_features=10, bias=True)\n",
              ")"
            ]
          },
          "metadata": {
            "tags": []
          },
          "execution_count": 28
        }
      ]
    },
    {
      "cell_type": "code",
      "metadata": {
        "id": "ZzCqbIxmG3Up",
        "outputId": "de45de2f-240b-490a-e55c-a5cf951bd051",
        "colab": {
          "base_uri": "https://localhost:8080/"
        }
      },
      "source": [
        "correct = 0\n",
        "total = 0\n",
        "with torch.no_grad():\n",
        "    for data in test_loader:\n",
        "        images, labels = data\n",
        "        outputs = model(images)\n",
        "        _, predicted = torch.max(outputs.data, 1)\n",
        "        total += labels.size(0)\n",
        "        correct += (predicted == labels).sum().item()\n",
        "\n",
        "print('Accuracy of the network on the test images: %d %%' % (100 * correct / total))"
      ],
      "execution_count": 29,
      "outputs": [
        {
          "output_type": "stream",
          "text": [
            "Accuracy of the network on the test images: 13 %\n"
          ],
          "name": "stdout"
        }
      ]
    }
  ]
}